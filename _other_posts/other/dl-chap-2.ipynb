{
 "cells": [
  {
   "cell_type": "markdown",
   "metadata": {},
   "source": [
    "# Chapter 2: Linear Algebra\n",
    "Đại số tuyến tính rất cần thiết trong việc hiểu và làm việc với Machine Learning và đặc biệt là Deep Learning.\n",
    "\n",
    "Linear Algebra tương đương với học phần Math II của ICT.\n",
    "\n",
    "Ở bài này, mình chỉ tóm tắt lại hoặc lược qua tiêu đề một số phần do biết trước rồi, hoặc để tự nghiên cứu sau.\n",
    "\n",
    "Đại số tuyến tính liên quan đến một số đối tượng:\n",
    "- Scalars\n",
    "- Vectors\n",
    "- Matrices\n",
    "- Tensors\n",
    "\n",
    "Có một số phép toán trên ma trận quan trọng như: transpose(chuyển vị), nhân ma trận, hay *broadcasting* (trong phạm vị Deep Learning)\n",
    "\n",
    "System of linear equations (Hệ phương trình): $\\mathbf{Ax} = \\mathbf{b}$\n",
    "\n",
    "Ngoài ra còn một số khái niệm quan trọng:\n",
    "- Identity, Inverse Matrices\n",
    "- Linear Dependence, Span\n",
    "- Norms \n",
    "- Diagonal matrix\n",
    "- Symmetric matrix\n",
    "- Orthogonal matrix\n",
    "\n",
    "Nhiều đối tượng toán có thể được hiểu tốt hơn bằng cách phân tách nó thành những thành phẩn, rồi tìm ra đặc tính của chúng. \n",
    "\n",
    "*Eigendecomposition* là một cách để phân tách ma trận thành tập những eigenvectors và eigenvalues.\n",
    "\n",
    "*Singular Value Decomposition* phân tách ma trận thành singular vectors và singular values.\n",
    "\n",
    "Không phải ma trận nào cũng có ma trận nghịch đảo, thế nên ta dùng Moore-Penrose pseudoinverse.\n",
    "\n",
    "Một số hàm làm việc với ma trận:\n",
    "- Trace\n",
    "- Determinant\n",
    "\n",
    "### Principal Components Analysis (PCA)\n",
    "PCA là một thuật toán ML đơn giản có thể xây dựng chỉ với những kiến thức cơ bản về Đại số tuyến tính.\n",
    "\n",
    "Đọc kỹ về PCA tại [đây](https://machinelearningcoban.com/2017/06/15/pca/)\n",
    "\n",
    "\n"
   ]
  }
 ],
 "metadata": {
  "kernelspec": {
   "display_name": "Python 3",
   "language": "python",
   "name": "python3"
  },
  "language_info": {
   "codemirror_mode": {
    "name": "ipython",
    "version": 3
   },
   "file_extension": ".py",
   "mimetype": "text/x-python",
   "name": "python",
   "nbconvert_exporter": "python",
   "pygments_lexer": "ipython3",
   "version": "3.6.5"
  }
 },
 "nbformat": 4,
 "nbformat_minor": 2
}
