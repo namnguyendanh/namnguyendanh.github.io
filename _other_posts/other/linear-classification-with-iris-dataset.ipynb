{
 "cells": [
  {
   "cell_type": "markdown",
   "metadata": {},
   "source": [
    "## Steps of build a machine learning\n",
    "1. Collect Data\n",
    "2. Pick the Model\n",
    "3. Train the Model\n",
    "4. Test the Model\n",
    "\n",
    "`Data + Model = Pattern Recognition`\n",
    "\n",
    "## Collect Data (Iris dataset)\n",
    "Each data points in Iris dataset has 4 features: Petal length, petal width, sepal length, sepal width.\n",
    "\n",
    "But why it has those features ?\n",
    "\n",
    "Iris dataset has come with sklearn library so that we only need 1 line of code to load the data."
   ]
  },
  {
   "cell_type": "code",
   "execution_count": null,
   "metadata": {},
   "outputs": [],
   "source": [
    "import tensorflow.contrib.learn as skflow\n",
    "import tensorflow as tf\n",
    "from sklearn import datasets, metrics\n",
    "\n",
    "# 1. Collect Data\n",
    "iris = datasets.load_iris()\n",
    "\n",
    "# 2. Pick the Model\n",
    "feature_columns = [tf.contrib.layers.real_valued_column(\"\", dimension=1)]\n",
    "classifier = skflow.LinearClassifier(feature_columns, n_classes=3)\n",
    "# another way by implementing Deep Learning\n",
    "# classifier = skflow.DNNClasssifier(feature_columns, hidden_units=[10, 20, 10], n_classes=3)\n",
    "\n",
    "# 3. Train the Model\n",
    "classifier.fit(iris.data, iris.target)\n",
    "\n",
    "# Check the Model\n",
    "score = metrics.accuracy_score(iris.target, classifier.predict(iris.data))\n",
    "print(\"Accuracy: %f\" % score)"
   ]
  },
  {
   "cell_type": "code",
   "execution_count": null,
   "metadata": {},
   "outputs": [],
   "source": []
  }
 ],
 "metadata": {
  "kernelspec": {
   "display_name": "Python 3",
   "language": "python",
   "name": "python3"
  },
  "language_info": {
   "codemirror_mode": {
    "name": "ipython",
    "version": 3
   },
   "file_extension": ".py",
   "mimetype": "text/x-python",
   "name": "python",
   "nbconvert_exporter": "python",
   "pygments_lexer": "ipython3",
   "version": "3.6.4"
  }
 },
 "nbformat": 4,
 "nbformat_minor": 2
}
