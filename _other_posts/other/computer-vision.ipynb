{
 "cells": [
  {
   "cell_type": "markdown",
   "metadata": {},
   "source": [
    "# Computer Vision\n",
    "\n",
    "## Computer Vision là gì ?\n",
    "**Computer Vision** (Thị giác máy)(CV) là một lĩnh vực được nghiên cứu nhiều khi ứng dụng Deep Learning. Bởi thị giác là một tác vụ vốn dễ cho con người, nhưng khó với máy. Nhiều tác vụ dùng để đánh giá các thuật toán deep learning thường là nhận diện vật thể, nhận diện ký tự.\n",
    "\n",
    "Computer Vision là một ngành rất rộng liên quan đến xử lý hình ảnh. Ứng dụng của CV trải rộng từ xây dựng khả năng thị giác giống con người (VD: nhận diện khuôn mặt) đến xây dựng khả năng thị giác mới (VD: nhận diện sóng âm từ sự dao dộng của vật thể trong video).\n",
    "\n",
    "![Một cảnh trong phim Eagle Eye][1]\n",
    "*Ảnh minh hoạ - Phim Eagle Eye*\n",
    "\n",
    "Hầu hết các nghiên cứu deep learning thì hướng về một mục tiêu nhỏ trong AI - bắt chước khả năng của con người. Deep Learning sử dụng trong CV thường dùng dể giải quyết bài toán nhận diện vật thể (hoặc một dạng nào đấy). Nhận diện ở đây có thể hiểu là: xem xem vật thể có xuất hiện trong ảnh không, gắn hộp xung quanh vật thể , phiên âm chuỗi ký tự, gắn nhãn từng pixel theo vật thể chứa nó. \n",
    "\n",
    "Because generative modeling has been a guiding principle of deep learning research (chưa tìm hiểu cái này)\n",
    "\n",
    "Ngoài ra, còn có nhiều nghiên cứu về *image synthesis*, những mô hình sử dụng image synthesis có thể ứng dụng trong *image restoration* (khôi phục ảnh bằng cách sửa khiếm khuyết hoặc xoá vật thể trong ảnh) \n",
    "\n",
    "## Preprocessing (Tiền xử lý)\n",
    "Trong CV, các bước tiền xử lý không quá phức tạp. \n",
    "\n",
    "Hình ảnh sẽ được **chuẩn hoá (standardize)** để giá trị các pixel chỉ nằm trong khoảng \\[0,1\\] hoặc \\[-1,1\\]. \n",
    "\n",
    "Nhiều cấu trúc CV cần các bức ảnh đầu vào phải cùng cỡ (nên ảnh sẽ bị co bóp để cho phù hợp). Một số mô hình CNN  chấp nhận đầu vào với các kích cỡ khác nhau và tự điều chỉnh được pooling regions để giữ kích cỡ đầu ra cố định, hoặc tự co dãn kích thước theo đầu vào.\n",
    "\n",
    "**Dataset augmentation(Gia tăng dữ liệu)** cũng có thể coi là cách tiền xử lý tập training, và nó là một cách tốt để giảm generalization error ở hầu hết các mô hình CV. Ngoài ra, còn có một ý tưởng khác gần giống đó là *ensemble approach*.\n",
    "\n",
    "Một \n",
    "\n",
    "\n",
    "[1]: 1.png"
   ]
  }
 ],
 "metadata": {
  "kernelspec": {
   "display_name": "Python 3",
   "language": "python",
   "name": "python3"
  },
  "language_info": {
   "codemirror_mode": {
    "name": "ipython",
    "version": 3
   },
   "file_extension": ".py",
   "mimetype": "text/x-python",
   "name": "python",
   "nbconvert_exporter": "python",
   "pygments_lexer": "ipython3",
   "version": "3.6.5"
  }
 },
 "nbformat": 4,
 "nbformat_minor": 2
}
