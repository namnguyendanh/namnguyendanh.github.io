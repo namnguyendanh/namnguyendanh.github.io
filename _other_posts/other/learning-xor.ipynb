{
 "cells": [
  {
   "cell_type": "markdown",
   "metadata": {},
   "source": [
    "## XOR là gì ?\n",
    "The XOR function (“exclusive or”) is an operation on two binary values, $x_1$ and $x_2$.\n",
    "\n",
    "|$x_1$|$x_2$|$x \\oplus y$|\n",
    "|------|------|------|\n",
    "|0|0|0|\n",
    "|0|1|1|\n",
    "|1|0|1|\n",
    "|1|1|0|\n",
    "\n",
    "## Model\n",
    "Hàm XOR: $y = f^*(\\mathbf{x})$\n",
    "\n",
    "Mục tiêu là tìm hàm $y = f(\\mathbf{x}, \\mathbf{\\theta})$ gần với $f^*$ nhất có thể  bằng cách thay đổi $\\mathbf{\\theta}$\n",
    "\n",
    "Linear model không thể  mô tả được hàm XOR. Vì vậy, chúng ta cần đến feedforward network.\n",
    "\n",
    "### Cấu trúc model\n",
    "- Input layer: 2 unit $x_1$ và $x_2$\n",
    "- 1 hidden layer: 2 units (vector $h$)\n",
    "- Output layer: 1 unit $y$\n",
    "\n",
    "#### Biểu diễn dưới dạng toán học:\n",
    "\n",
    "$\\begin{eqnarray}\n",
    "\\mathbf{h} & = & f^{(1)}(\\mathbf{x};\\mathbf{W},\\mathbf{c})\\\\\n",
    "y & = & f^{(2)}(\\mathbf{h};\\mathbf{w},b)\\\\\n",
    "& = & f(\\mathbf{x}; \\mathbf{W},\\mathbf{c},\\mathbf{w},b)\\\\\n",
    "& = & f^{(2)}(f^{(1)}(\\mathbf{x}))\n",
    "\\end{eqnarray}$\n",
    "\n",
    "Chúng ta cần sử dụng nonlinear function để mô tả các features. Một giải pháp đó là **affine transformation** từ vector $\\mathbf{x}$ sang vector $\\mathbf{h}$\n",
    "\n",
    "Cụ thể hơn, ta gán $\\mathbf{h} = g(\\mathbf{W}^T \\mathbf{x} + \\mathbf{c})$ với $g$ là một **activation function**. \n",
    "\n",
    "Trong neural networks hiện đại, người ta khuyên dùng **rectified linear unit** hay ReLU, tức là unit có activation function: \n",
    "\n",
    "$g(z) = max\\{0, z\\}$\n",
    "\n",
    "#### Công thức hoàn chỉnh\n",
    "\n",
    "$f(\\mathbf{x}; \\mathbf{W},\\mathbf{c},\\mathbf{w},b) = \\mathbf{w}^T max\\{0, \\mathbf{W}^T \\mathbf{x} + c\\} + b$\n",
    "\n",
    "## Ví dụ\n",
    "Cho:\n",
    "\n",
    "$\\mathbf{W} = \\left[\n",
    "\\begin{array}{cc}\n",
    "1 & 1\\\\\n",
    "1 & 1\n",
    "\\end{array}\n",
    "\\right]$"
   ]
  }
 ],
 "metadata": {
  "kernelspec": {
   "display_name": "Python 3",
   "language": "python",
   "name": "python3"
  },
  "language_info": {
   "codemirror_mode": {
    "name": "ipython",
    "version": 3
   },
   "file_extension": ".py",
   "mimetype": "text/x-python",
   "name": "python",
   "nbconvert_exporter": "python",
   "pygments_lexer": "ipython3",
   "version": "3.6.4"
  }
 },
 "nbformat": 4,
 "nbformat_minor": 2
}
