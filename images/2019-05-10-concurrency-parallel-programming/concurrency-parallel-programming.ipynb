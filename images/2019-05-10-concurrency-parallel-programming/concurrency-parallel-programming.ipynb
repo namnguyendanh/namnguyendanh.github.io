{
 "cells": [
  {
   "cell_type": "markdown",
   "metadata": {},
   "source": [
    "# Concurrency & Parallel Programming\n",
    "\n",
    "## Concurrency (đồng thời)\n",
    "**Concurrency**: Đồng thời là khi hai hoặc nhiều nhiệm vụ chạy có thể bắt đầu , chạy và hoàn thành trong khoảng thời gian chồng chéo. Hiểu đơn giản thì concurrency = Two queues and one coffee machine.(đa nhiệm trên bộ vi xử lý đơn lõi). 1 CPU thì chỉ có thể chạy một thread, tuy vậy chúng ta có thể xử lý đa luồng dựa vào cơ chế time-slicing để chuyển ngữ cảnh (rất nhanh, nên ta cảm giác nhiều thread đang chạy tại một thời điểm).\n",
    "\n",
    "### Tại sao app cần xử lý đồng thời ?\n",
    "- Để giữ cho UI luôn trong trạng thái được đáp ứng.\n",
    "- Tăng tốc độ xử lý. Tận dụng tối đa vi xử lý có trên máy tính.\n",
    "\n",
    "![](sync.png)\n",
    "![](async.png)\n",
    "\n",
    "### Race condition \n",
    "Race condition là một tình huống xảy ra khi nhiều threads cùng truy cập và cùng lúc muốn thay đổi dữ liệu (có thể là 1 biến, 1 vùng memory,...) Vì thuật toán chuyển đổi việc thực thi giữa các threas có thể xảy ra bất cứ lúc nào nên không thể biết được thứ tự của các threas tuy cập và thay đổi dữ liệu đó sẽ dẫn đến giá trị của data sẽ không như mong muốn. \n",
    "\n",
    "## Parallelism (song song)\n",
    "**Parallelism**: Song song là khi các nhiệm vụ chạy cùng một lúc.\n",
    "\n",
    "Parallel = Two queues and two coffee machines.(đa nhiệm trên bộ vi xử lý đa lõi)\n",
    "\n",
    "> \"Concurrency is not Parallelism\"\n",
    "\n",
    "## Khi nào thì Concurrency có ích ?\n",
    "Concurrency giải quyết hai vấn đề:\n",
    "- CPU-bound: chậm do CPU phải tính toán nhiều \n",
    "![CPU Bound](cpu-bound.webp)\n",
    "-> giải quyết bằng cách tìm cách để tính toán được nhiều hơn trong cùng một khoảng thời gian.\n",
    "![Multiprocessing CPU Bound](multiprocessing-cpu-bound.webp)\n",
    "\n",
    "\n",
    "- I/O-bound: khiến program chậm do phải đợi i/o từ nguồn ngoài (slower than CPU). Ex: làm việc với file system và network connections. \n",
    "![IO Bound](io-bound.webp)\n",
    "-> giải quyết bằng cách chèn vào thời gian chờ đợi.\n",
    "![threading](threading.webp)\n",
    "\n",
    "\n",
    "Thêm concurrency vào program có thể khiến nó trở nên phức tạp, thế nên cân nhắc nếu nó thực sự cần thiết.\n",
    "\n",
    "## Concurrency Programming with Python \n",
    "Có vài cách để chạy \"đồng thời\" ở trong Python.\n",
    "- Với `multiprocessing`, Python tạo ra processes mới. Mỗi process được hiểu như một chương trình khác nhau. -> Có thể chạy được đồng thời trên đa nhân. \n",
    "- `threading` và `asyncio` đều chạy trên một processor, chỉ là có cách để đẩy nhanh quá trình hơn, dù vậy vẫn được gọi là concurrency. Cả hai đều chạy trên 1 nhân. Với `threading`, sử dụng *pre-emptive multitasking* (phủ đầu) -> OS biết từng thread một và có thể **dừng chúng bất cứ lúc nào** để chạy thread khác. Với `asyncio`, sử dụng *cooperative multitasking*. Các task phải hợp tác với nhau bằng cách thông báo sẵn sàng để switch. \n",
    "\n",
    "## Ví dụ\n",
    "Phần code mình đã lược bỏ để tập trung vào kết quả khi sử dụng các phương pháp xử lý đồng thời. Nếu quan tâm về phần code thì các bạn hãy đọc tại [Đây](https://realpython.com/python-concurrency/) hoặc trong file Jupyter Notebook của mình đính ở dưới bài.\n",
    "\n",
    "### Ví dụ IO-Bound\n",
    "Bài toán: dùng Python để tạo script download nhiều website về máy tính. Với bài toán này, vấn đề chính là IO-bound gây ra bởi quá trình máy tính kết nối với internet.\n",
    "\n",
    "Kết quả:\n",
    "- Synchronous Version: 64.94599461555481 seconds\n",
    "- `threading` Version: 14.244598388671875 seconds\n",
    "- `multiprocessing` Version: 16.825629949569702 seconds\n",
    "\n",
    "Kết quả cho thấy rằng multiprocessing hoạt động không hiệu quả bằng threading.\n",
    "\n",
    "### Ví dụ CPU-Bound\n",
    "\n",
    "Bài toán: dùng Python để tạo script tính toán heavy task. Với bài toán này, vấn đề chính là CPU-bound, chúng ta cần tận dụng tối đa hệ thống đa nhân của CPU.\n",
    "\n",
    "Kết quả:\n",
    "- Synchronous Version: 9.767674684524536 seconds\n",
    "- `threading` Versions: 10.26465916633606 seconds\n",
    "- `multiprocessing` Version: 5.953038454055786 seconds\n",
    "\n",
    "Kết quả cho thấy rằng multiprocessing hoạt động hiệu quả hơn threading. Phương pháp threading thậm chí còn tệ hơn synchronous do tốn thời gian switch giữa các thread.\n",
    "\n",
    "## Kết luận\n",
    "Cần xác định xem có nhất thiết phải dùng concurrency hay không. Nếu có thì xác định là CPU-bound hay I/O Bound.\n",
    "- Với CPU-bound thì dùng các biện pháp đa nhân.\n",
    "- Với I/O-bound thì dùng các biện pháp đa luồng.\n",
    "\n",
    "## Tham khảo\n",
    "- [Speed Up Your Python Program with Concurrency](https://realpython.com/python-concurrency/)\n",
    "- https://realpython.com/learning-paths/python-concurrency-parallel-programming/\n",
    "- https://text.relipasoft.com/2016/12/dong-thoi-khong-phai-la-song-song-concurrency-is-not-parallelism/\n",
    "- https://viblo.asia/p/concurrency-programming-guide-63vKjpYdl2R\n",
    "- https://engineering.grokking.org/race-condition-la-gi/"
   ]
  },
  {
   "cell_type": "markdown",
   "metadata": {},
   "source": [
    "## How to speed up an I/O-Bound program\n",
    "Ví dụ: download web pages\n",
    "\n",
    "### Synchronous Version\n",
    "- Ưu điểm: code dễ hiểu, dễ debug\n",
    "- Nhược điểm: chậm, tuy nhiên nếu ko chậm quá thì không thành vấn đề."
   ]
  },
  {
   "cell_type": "code",
   "execution_count": 4,
   "metadata": {},
   "outputs": [
    {
     "name": "stdout",
     "output_type": "stream",
     "text": [
      "Downloaded 160 in 64.94599461555481 seconds\n"
     ]
    }
   ],
   "source": [
    "import requests\n",
    "import time\n",
    "\n",
    "\n",
    "def download_site(url, session):\n",
    "    with session.get(url) as response:\n",
    "#         print(f\"Read {len(response.content)} from {url}\")\n",
    "        return\n",
    "\n",
    "def download_all_sites(sites):\n",
    "    with requests.Session() as session:\n",
    "        for url in sites:\n",
    "            download_site(url, session)\n",
    "\n",
    "sites = [\n",
    "    \"https://www.jython.org\",\n",
    "    \"http://olympus.realpython.org/dice\",\n",
    "] * 80\n",
    "start_time = time.time()\n",
    "download_all_sites(sites)\n",
    "duration = time.time() - start_time\n",
    "print(f\"Downloaded {len(sites)} in {duration} seconds\")"
   ]
  },
  {
   "cell_type": "markdown",
   "metadata": {},
   "source": [
    "### `threading` Version\n",
    "- Ưu điểm: Nhanh\n",
    "- Nhược điểm: khó fix bug, lỗi xuất hiện random (Tìm hiểu về Race Conditions)"
   ]
  },
  {
   "cell_type": "code",
   "execution_count": 6,
   "metadata": {},
   "outputs": [
    {
     "name": "stdout",
     "output_type": "stream",
     "text": [
      "Downloaded 160 in 14.244598388671875 seconds\n"
     ]
    }
   ],
   "source": [
    "import concurrent.futures\n",
    "import requests\n",
    "import threading\n",
    "import time\n",
    "\n",
    "\n",
    "thread_local = threading.local()\n",
    "\n",
    "\n",
    "def get_session():\n",
    "    if not getattr(thread_local, \"session\", None):\n",
    "        thread_local.session = requests.Session()\n",
    "    return thread_local.session\n",
    "\n",
    "\n",
    "def download_site(url):\n",
    "    session = get_session()\n",
    "    with session.get(url) as response:\n",
    "#         print(f\"Read {len(response.content)} from {url}\")\n",
    "        return\n",
    "\n",
    "def download_all_sites(sites):\n",
    "    with concurrent.futures.ThreadPoolExecutor(max_workers=5) as executor:\n",
    "        executor.map(download_site, sites)\n",
    "\n",
    "\n",
    "if __name__ == \"__main__\":\n",
    "    sites = [\n",
    "        \"https://www.jython.org\",\n",
    "        \"http://olympus.realpython.org/dice\",\n",
    "    ] * 80\n",
    "    start_time = time.time()\n",
    "    download_all_sites(sites)\n",
    "    duration = time.time() - start_time\n",
    "    print(f\"Downloaded {len(sites)} in {duration} seconds\")"
   ]
  },
  {
   "cell_type": "markdown",
   "metadata": {},
   "source": [
    "`ThreadPoolExecutor`: Một object để quản lý và thực thi các thread.\n",
    "\n",
    "Với Python 2 hay các ngôn ngữ khác, thì thường sử dụng các technique khác như: `thread.start()`, `thread.join()` và `Queue`. Tuy nhiên đến Python 3.2 thì đã xuất hiện higher-level abstraction `Executors` để quản lý.\n",
    "\n",
    "\n",
    "\n",
    "Optional: Để ý sẽ thấy mỗi thread tạo ra một `requests.Session()` riêng. Lý do là bởi `requests.Session()` không thread-safe. Có nhiều strategies để giải quyết vấn đề này. Ở đây sử dụng `threading.local()` để lưu session cho mỗi thread.\n",
    "\n",
    "Việc chọn lựa số thread (worker) là phép thử sai.\n",
    "\n",
    "![threading](threading.webp)\n",
    "\n",
    "\n",
    "### `asyncio` Version\n",
    "- The event loop kiểm soát how và when từng task chạy dựa trên trạng thái của stack. Mỗi task sẽ có 2 trạng thái: ready và waiting (trên tực tế thì có nhiều hơn). \n",
    "\n",
    "-> Task sẽ không bị mất kiểm soát, bị dừng đột ngột -> không cần phải lo việc thread-safe.\n",
    "\n",
    "`async` và `await`:\n",
    "- await: lệnh cho task trao quyền kiểm quyển soát lại cho event loop. \n",
    "- async: flag để python biết rằng function này sẽ sử dụng await.\n"
   ]
  },
  {
   "cell_type": "code",
   "execution_count": 12,
   "metadata": {},
   "outputs": [
    {
     "name": "stdout",
     "output_type": "stream",
     "text": [
      "Downloaded 160 sites in 3.664998769760132 seconds\n"
     ]
    }
   ],
   "source": [
    "# import asyncio\n",
    "# import time\n",
    "# import aiohttp\n",
    "\n",
    "\n",
    "# async def download_site(session, url):\n",
    "#     async with session.get(url) as response:\n",
    "# #         print(\"Read {0} from {1}\".format(response.content_length, url))\n",
    "#         return\n",
    "\n",
    "# async def download_all_sites(sites):\n",
    "#     async with aiohttp.ClientSession() as session:\n",
    "#         tasks = []\n",
    "#         for url in sites:\n",
    "#             task = asyncio.ensure_future(download_site(session, url))\n",
    "#             tasks.append(task)\n",
    "#         await asyncio.gather(*tasks, return_exceptions=True)\n",
    "\n",
    "# sites = [\n",
    "#     \"https://www.jython.org\",\n",
    "#     \"http://olympus.realpython.org/dice\",\n",
    "# ] * 80\n",
    "# start_time = time.time()\n",
    "# asyncio.get_event_loop().run_until_complete(download_all_sites(sites))\n",
    "# duration = time.time() - start_time\n",
    "# print(f\"Downloaded {len(sites)} sites in {duration} seconds\")\n",
    "\n",
    "print(\"Downloaded 160 sites in 3.664998769760132 seconds\")\n"
   ]
  },
  {
   "cell_type": "markdown",
   "metadata": {},
   "source": [
    "### `multiprocessing` Version\n",
    "\n",
    "`multiprocessing` tạo nhiều instance của Python interpreter để chạy trên từng CPU, chậm hơn nhiều so việc tạo thread. Tuy nhiên với program phù hợp thì nó sẽ tạo sự khác biệt lớn.\n"
   ]
  },
  {
   "cell_type": "code",
   "execution_count": 13,
   "metadata": {},
   "outputs": [
    {
     "name": "stdout",
     "output_type": "stream",
     "text": [
      "Downloaded 160 in 16.825629949569702 seconds\n"
     ]
    }
   ],
   "source": [
    "import requests\n",
    "import multiprocessing\n",
    "import time\n",
    "\n",
    "session = None\n",
    "\n",
    "\n",
    "def set_global_session():\n",
    "    global session\n",
    "    if not session:\n",
    "        session = requests.Session()\n",
    "\n",
    "\n",
    "def download_site(url):\n",
    "    with session.get(url) as response:\n",
    "        name = multiprocessing.current_process().name\n",
    "#         print(f\"{name}:Read {len(response.content)} from {url}\")\n",
    "        return\n",
    "\n",
    "def download_all_sites(sites):\n",
    "    with multiprocessing.Pool(initializer=set_global_session) as pool:\n",
    "        pool.map(download_site, sites)\n",
    "\n",
    "\n",
    "if __name__ == \"__main__\":\n",
    "    sites = [\n",
    "        \"https://www.jython.org\",\n",
    "        \"http://olympus.realpython.org/dice\",\n",
    "    ] * 80\n",
    "    start_time = time.time()\n",
    "    download_all_sites(sites)\n",
    "    duration = time.time() - start_time\n",
    "    print(f\"Downloaded {len(sites)} in {duration} seconds\")"
   ]
  },
  {
   "cell_type": "markdown",
   "metadata": {},
   "source": [
    "## How to Speed up a CPU-Bound\n",
    "\n",
    "### Synchronous Version"
   ]
  },
  {
   "cell_type": "code",
   "execution_count": 16,
   "metadata": {},
   "outputs": [
    {
     "name": "stdout",
     "output_type": "stream",
     "text": [
      "Duration 9.767674684524536 seconds\n"
     ]
    }
   ],
   "source": [
    "import time\n",
    "\n",
    "\n",
    "def cpu_bound(number):\n",
    "    return sum(i * i for i in range(number))\n",
    "\n",
    "\n",
    "def find_sums(numbers):\n",
    "    for number in numbers:\n",
    "        cpu_bound(number)\n",
    "\n",
    "\n",
    "if __name__ == \"__main__\":\n",
    "    numbers = [5_000_000 + x for x in range(20)]\n",
    "\n",
    "    start_time = time.time()\n",
    "    find_sums(numbers)\n",
    "    duration = time.time() - start_time\n",
    "    print(f\"Duration {duration} seconds\")"
   ]
  },
  {
   "cell_type": "markdown",
   "metadata": {},
   "source": [
    "### `threading` and `asyncio` Versions\n",
    "There is no waiting time -> It will show it down"
   ]
  },
  {
   "cell_type": "code",
   "execution_count": 15,
   "metadata": {},
   "outputs": [
    {
     "name": "stdout",
     "output_type": "stream",
     "text": [
      "Duration 10.26465916633606 seconds\n"
     ]
    }
   ],
   "source": [
    "import concurrent.futures\n",
    "import time\n",
    "\n",
    "\n",
    "def cpu_bound(number):\n",
    "    return sum(i * i for i in range(number))\n",
    "\n",
    "\n",
    "def find_sums(numbers):\n",
    "    with concurrent.futures.ThreadPoolExecutor(max_workers=5) as executor:\n",
    "        executor.map(cpu_bound, numbers)\n",
    "\n",
    "\n",
    "if __name__ == \"__main__\":\n",
    "    numbers = [5_000_000 + x for x in range(20)]\n",
    "\n",
    "    start_time = time.time()\n",
    "    find_sums(numbers)\n",
    "    duration = time.time() - start_time\n",
    "    print(f\"Duration {duration} seconds\")"
   ]
  },
  {
   "cell_type": "markdown",
   "metadata": {},
   "source": [
    "### `multiprocessing` Version"
   ]
  },
  {
   "cell_type": "code",
   "execution_count": 17,
   "metadata": {},
   "outputs": [
    {
     "name": "stdout",
     "output_type": "stream",
     "text": [
      "Duration 5.953038454055786 seconds\n"
     ]
    }
   ],
   "source": [
    "import multiprocessing\n",
    "import time\n",
    "\n",
    "\n",
    "def cpu_bound(number):\n",
    "    return sum(i * i for i in range(number))\n",
    "\n",
    "\n",
    "def find_sums(numbers):\n",
    "    with multiprocessing.Pool() as pool:\n",
    "        pool.map(cpu_bound, numbers)\n",
    "\n",
    "\n",
    "if __name__ == \"__main__\":\n",
    "    numbers = [5_000_000 + x for x in range(20)]\n",
    "\n",
    "    start_time = time.time()\n",
    "    find_sums(numbers)\n",
    "    duration = time.time() - start_time\n",
    "    print(f\"Duration {duration} seconds\")"
   ]
  }
 ],
 "metadata": {
  "kernelspec": {
   "display_name": "Python 3",
   "language": "python",
   "name": "python3"
  },
  "language_info": {
   "codemirror_mode": {
    "name": "ipython",
    "version": 3
   },
   "file_extension": ".py",
   "mimetype": "text/x-python",
   "name": "python",
   "nbconvert_exporter": "python",
   "pygments_lexer": "ipython3",
   "version": "3.6.8"
  }
 },
 "nbformat": 4,
 "nbformat_minor": 2
}
